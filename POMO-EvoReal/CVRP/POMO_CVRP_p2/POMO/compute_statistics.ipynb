{
 "cells": [
  {
   "cell_type": "code",
   "execution_count": 1,
   "id": "71c5408e",
   "metadata": {},
   "outputs": [],
   "source": [
    "import json\n",
    "\n",
    "def compute_avg_aug_gap(test_logger_path, label_file):\n",
    "    with open(test_logger_path,'r') as f:\n",
    "        test_logger_dict = json.load(f)\n",
    "        \n",
    "    with open(label_file, 'r') as f:\n",
    "        label_dict = json.load(f)\n",
    "\n",
    "    gaps = []\n",
    "    for prob, scores in test_logger_dict.items():\n",
    "        if prob not in label_dict:\n",
    "            continue\n",
    "        aug_score = scores[0][1]\n",
    "        opt = label_dict[prob][\"normalized_label\"]\n",
    "        gap = (aug_score - opt) / opt * 100\n",
    "        gaps.append(gap)\n",
    "\n",
    "    if len(gaps) == 0:\n",
    "        avg_gap = None\n",
    "        print(\"[Eval] No overlap between test_logger_dict and label_dict keys.\")\n",
    "    else:\n",
    "        avg_gap = sum(gaps) / len(gaps)\n",
    "        print(f\"[Eval] The average aug gap of {len(gaps)} problems is {avg_gap:.4f}%.\")\n",
    "    return avg_gap, test_logger_dict, label_dict"
   ]
  },
  {
   "cell_type": "code",
   "execution_count": 4,
   "id": "8ae926d1",
   "metadata": {},
   "outputs": [
    {
     "ename": "FileNotFoundError",
     "evalue": "[Errno 2] No such file or directory: 'C:\\\\Users\\\\XR\\\\Desktop\\\\COP\\\\cvrp\\\\20250608\\\\large_sets\\\\tester_logger_dict.json'",
     "output_type": "error",
     "traceback": [
      "\u001b[1;31m---------------------------------------------------------------------------\u001b[0m",
      "\u001b[1;31mFileNotFoundError\u001b[0m                         Traceback (most recent call last)",
      "Cell \u001b[1;32mIn[4], line 1\u001b[0m\n\u001b[1;32m----> 1\u001b[0m avg_gap, logger_dict, label_dict \u001b[38;5;241m=\u001b[39m compute_avg_aug_gap(test_logger_path\u001b[38;5;241m=\u001b[39m\u001b[38;5;124mr\u001b[39m\u001b[38;5;124m'\u001b[39m\u001b[38;5;124mC:\u001b[39m\u001b[38;5;124m\\\u001b[39m\u001b[38;5;124mUsers\u001b[39m\u001b[38;5;124m\\\u001b[39m\u001b[38;5;124mXR\u001b[39m\u001b[38;5;124m\\\u001b[39m\u001b[38;5;124mDesktop\u001b[39m\u001b[38;5;124m\\\u001b[39m\u001b[38;5;124mCOP\u001b[39m\u001b[38;5;124m\\\u001b[39m\u001b[38;5;124mcvrp\u001b[39m\u001b[38;5;124m\\\u001b[39m\u001b[38;5;124m20250608\u001b[39m\u001b[38;5;124m\\\u001b[39m\u001b[38;5;124mlarge_sets\u001b[39m\u001b[38;5;124m\\\u001b[39m\u001b[38;5;124mtester_logger_dict.json\u001b[39m\u001b[38;5;124m'\u001b[39m,label_file\u001b[38;5;241m=\u001b[39m\u001b[38;5;124mr\u001b[39m\u001b[38;5;124m'\u001b[39m\u001b[38;5;124mC:\u001b[39m\u001b[38;5;124m\\\u001b[39m\u001b[38;5;124mUsers\u001b[39m\u001b[38;5;124m\\\u001b[39m\u001b[38;5;124mXR\u001b[39m\u001b[38;5;124m\\\u001b[39m\u001b[38;5;124mDesktop\u001b[39m\u001b[38;5;124m\\\u001b[39m\u001b[38;5;124mCOP\u001b[39m\u001b[38;5;124m\\\u001b[39m\u001b[38;5;124mcvrp\u001b[39m\u001b[38;5;124m\\\u001b[39m\u001b[38;5;124mPOMO_CVRP\u001b[39m\u001b[38;5;124m\\\u001b[39m\u001b[38;5;124mdataset\u001b[39m\u001b[38;5;124m\\\u001b[39m\u001b[38;5;124mcvrp_label.json\u001b[39m\u001b[38;5;124m'\u001b[39m)\n",
      "Cell \u001b[1;32mIn[1], line 4\u001b[0m, in \u001b[0;36mcompute_avg_aug_gap\u001b[1;34m(test_logger_path, label_file)\u001b[0m\n\u001b[0;32m      3\u001b[0m \u001b[38;5;28;01mdef\u001b[39;00m \u001b[38;5;21mcompute_avg_aug_gap\u001b[39m(test_logger_path, label_file):\n\u001b[1;32m----> 4\u001b[0m     \u001b[38;5;28;01mwith\u001b[39;00m \u001b[38;5;28mopen\u001b[39m(test_logger_path,\u001b[38;5;124m'\u001b[39m\u001b[38;5;124mr\u001b[39m\u001b[38;5;124m'\u001b[39m) \u001b[38;5;28;01mas\u001b[39;00m f:\n\u001b[0;32m      5\u001b[0m         test_logger_dict \u001b[38;5;241m=\u001b[39m json\u001b[38;5;241m.\u001b[39mload(f)\n\u001b[0;32m      7\u001b[0m     \u001b[38;5;28;01mwith\u001b[39;00m \u001b[38;5;28mopen\u001b[39m(label_file, \u001b[38;5;124m'\u001b[39m\u001b[38;5;124mr\u001b[39m\u001b[38;5;124m'\u001b[39m) \u001b[38;5;28;01mas\u001b[39;00m f:\n",
      "File \u001b[1;32mc:\\Users\\XR\\anaconda3\\envs\\pytorch\\Lib\\site-packages\\IPython\\core\\interactiveshell.py:324\u001b[0m, in \u001b[0;36m_modified_open\u001b[1;34m(file, *args, **kwargs)\u001b[0m\n\u001b[0;32m    317\u001b[0m \u001b[38;5;28;01mif\u001b[39;00m file \u001b[38;5;129;01min\u001b[39;00m {\u001b[38;5;241m0\u001b[39m, \u001b[38;5;241m1\u001b[39m, \u001b[38;5;241m2\u001b[39m}:\n\u001b[0;32m    318\u001b[0m     \u001b[38;5;28;01mraise\u001b[39;00m \u001b[38;5;167;01mValueError\u001b[39;00m(\n\u001b[0;32m    319\u001b[0m         \u001b[38;5;124mf\u001b[39m\u001b[38;5;124m\"\u001b[39m\u001b[38;5;124mIPython won\u001b[39m\u001b[38;5;124m'\u001b[39m\u001b[38;5;124mt let you open fd=\u001b[39m\u001b[38;5;132;01m{\u001b[39;00mfile\u001b[38;5;132;01m}\u001b[39;00m\u001b[38;5;124m by default \u001b[39m\u001b[38;5;124m\"\u001b[39m\n\u001b[0;32m    320\u001b[0m         \u001b[38;5;124m\"\u001b[39m\u001b[38;5;124mas it is likely to crash IPython. If you know what you are doing, \u001b[39m\u001b[38;5;124m\"\u001b[39m\n\u001b[0;32m    321\u001b[0m         \u001b[38;5;124m\"\u001b[39m\u001b[38;5;124myou can use builtins\u001b[39m\u001b[38;5;124m'\u001b[39m\u001b[38;5;124m open.\u001b[39m\u001b[38;5;124m\"\u001b[39m\n\u001b[0;32m    322\u001b[0m     )\n\u001b[1;32m--> 324\u001b[0m \u001b[38;5;28;01mreturn\u001b[39;00m io_open(file, \u001b[38;5;241m*\u001b[39margs, \u001b[38;5;241m*\u001b[39m\u001b[38;5;241m*\u001b[39mkwargs)\n",
      "\u001b[1;31mFileNotFoundError\u001b[0m: [Errno 2] No such file or directory: 'C:\\\\Users\\\\XR\\\\Desktop\\\\COP\\\\cvrp\\\\20250608\\\\large_sets\\\\tester_logger_dict.json'"
     ]
    }
   ],
   "source": [
    "avg_gap, logger_dict, label_dict = compute_avg_aug_gap(test_logger_path=r'C:\\Users\\XR\\Desktop\\COP\\cvrp\\20250608\\large_sets\\tester_logger_dict.json',label_file=r'C:\\Users\\XR\\Desktop\\COP\\cvrp\\POMO_CVRP\\dataset\\cvrp_label.json')"
   ]
  },
  {
   "cell_type": "code",
   "execution_count": 14,
   "id": "ec6f9318",
   "metadata": {},
   "outputs": [
    {
     "name": "stdout",
     "output_type": "stream",
     "text": [
      "The interval-specific avg aug gaps are [0,200): (4.651850924095563, 22), [200,500): (6.585339697742978, 46),[500,1001): (12.009011782913946, 32)\n"
     ]
    }
   ],
   "source": [
    "quj_1_gaps = []  # [0,200)\n",
    "quj_2_gaps = []  # [200,500)\n",
    "quj_3_gaps = []  # [500,1001)\n",
    "\n",
    "for prob, scores in logger_dict.items():\n",
    "    if prob not in label_dict:\n",
    "        continue\n",
    "    num_customers = label_dict[prob][\"num_of_customers\"]\n",
    "    aug_score = scores[0][1]\n",
    "    opt = label_dict[prob][\"normalized_label\"]\n",
    "    gap = (aug_score - opt) / opt * 100\n",
    "\n",
    "    if num_customers < 200:\n",
    "        quj_1_gaps.append(gap)\n",
    "    elif num_customers < 500:\n",
    "        quj_2_gaps.append(gap)\n",
    "    elif num_customers < 1001:\n",
    "        quj_3_gaps.append(gap)\n",
    "\n",
    "avg_gap_1 = sum(quj_1_gaps) / len(quj_1_gaps) if quj_1_gaps else float('nan')\n",
    "avg_gap_2 = sum(quj_2_gaps) / len(quj_2_gaps) if quj_2_gaps else float('nan')\n",
    "avg_gap_3 = sum(quj_3_gaps) / len(quj_3_gaps) if quj_3_gaps else float('nan')\n",
    "\n",
    "print(f\"The interval-specific avg aug gaps are [0,200): ({avg_gap_1}, {len(quj_1_gaps)}), [200,500): ({avg_gap_2}, {len(quj_2_gaps)}),[500,1001): ({avg_gap_3}, {len(quj_3_gaps)})\")\n"
   ]
  }
 ],
 "metadata": {
  "kernelspec": {
   "display_name": "pytorch",
   "language": "python",
   "name": "python3"
  },
  "language_info": {
   "codemirror_mode": {
    "name": "ipython",
    "version": 3
   },
   "file_extension": ".py",
   "mimetype": "text/x-python",
   "name": "python",
   "nbconvert_exporter": "python",
   "pygments_lexer": "ipython3",
   "version": "3.12.4"
  }
 },
 "nbformat": 4,
 "nbformat_minor": 5
}
