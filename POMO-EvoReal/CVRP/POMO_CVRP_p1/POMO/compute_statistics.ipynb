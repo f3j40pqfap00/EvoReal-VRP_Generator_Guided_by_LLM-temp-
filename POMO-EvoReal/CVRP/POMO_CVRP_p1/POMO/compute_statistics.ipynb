{
 "cells": [
  {
   "cell_type": "code",
   "execution_count": 12,
   "id": "71c5408e",
   "metadata": {},
   "outputs": [],
   "source": [
    "import json\n",
    "\n",
    "def compute_avg_aug_gap(test_logger_path, label_file):\n",
    "    with open(test_logger_path,'r') as f:\n",
    "        test_logger_dict = json.load(f)\n",
    "        \n",
    "    with open(label_file, 'r') as f:\n",
    "        label_dict = json.load(f)\n",
    "\n",
    "    gaps = []\n",
    "    for prob, scores in test_logger_dict.items():\n",
    "        if prob not in label_dict:\n",
    "            continue\n",
    "        aug_score = scores[0][1]\n",
    "        opt = label_dict[prob][\"normalized_label\"]\n",
    "        gap = (aug_score - opt) / opt * 100\n",
    "        gaps.append(gap)\n",
    "\n",
    "    if len(gaps) == 0:\n",
    "        avg_gap = None\n",
    "        print(\"[Eval] No overlap between test_logger_dict and label_dict keys.\")\n",
    "    else:\n",
    "        avg_gap = sum(gaps) / len(gaps)\n",
    "        print(f\"[Eval] The average aug gap of {len(gaps)} problems is {avg_gap:.4f}%.\")\n",
    "    return avg_gap, test_logger_dict, label_dict"
   ]
  },
  {
   "cell_type": "code",
   "execution_count": 13,
   "id": "8ae926d1",
   "metadata": {},
   "outputs": [
    {
     "name": "stdout",
     "output_type": "stream",
     "text": [
      "[Eval] The average aug gap of 100 problems is 7.8955%.\n"
     ]
    }
   ],
   "source": [
    "avg_gap, logger_dict, label_dict = compute_avg_aug_gap(test_logger_path=r'C:\\Users\\XR\\Desktop\\COP\\cvrp\\POMO_CVRP\\20250604\\small\\small-eps140.json',label_file=r'C:\\Users\\XR\\Desktop\\COP\\cvrp\\POMO_CVRP\\dataset\\cvrp_label.json')"
   ]
  },
  {
   "cell_type": "code",
   "execution_count": 14,
   "id": "ec6f9318",
   "metadata": {},
   "outputs": [
    {
     "name": "stdout",
     "output_type": "stream",
     "text": [
      "The interval-specific avg aug gaps are [0,200): (4.651850924095563, 22), [200,500): (6.585339697742978, 46),[500,1001): (12.009011782913946, 32)\n"
     ]
    }
   ],
   "source": [
    "quj_1_gaps = []  # [0,200)\n",
    "quj_2_gaps = []  # [200,500)\n",
    "quj_3_gaps = []  # [500,1001)\n",
    "\n",
    "for prob, scores in logger_dict.items():\n",
    "    if prob not in label_dict:\n",
    "        continue\n",
    "    num_customers = label_dict[prob][\"num_of_customers\"]\n",
    "    aug_score = scores[0][1]\n",
    "    opt = label_dict[prob][\"normalized_label\"]\n",
    "    gap = (aug_score - opt) / opt * 100\n",
    "\n",
    "    if num_customers < 200:\n",
    "        quj_1_gaps.append(gap)\n",
    "    elif num_customers < 500:\n",
    "        quj_2_gaps.append(gap)\n",
    "    elif num_customers < 1001:\n",
    "        quj_3_gaps.append(gap)\n",
    "\n",
    "avg_gap_1 = sum(quj_1_gaps) / len(quj_1_gaps) if quj_1_gaps else float('nan')\n",
    "avg_gap_2 = sum(quj_2_gaps) / len(quj_2_gaps) if quj_2_gaps else float('nan')\n",
    "avg_gap_3 = sum(quj_3_gaps) / len(quj_3_gaps) if quj_3_gaps else float('nan')\n",
    "\n",
    "print(f\"The interval-specific avg aug gaps are [0,200): ({avg_gap_1}, {len(quj_1_gaps)}), [200,500): ({avg_gap_2}, {len(quj_2_gaps)}),[500,1001): ({avg_gap_3}, {len(quj_3_gaps)})\")\n"
   ]
  }
 ],
 "metadata": {
  "kernelspec": {
   "display_name": "pytorch",
   "language": "python",
   "name": "python3"
  },
  "language_info": {
   "codemirror_mode": {
    "name": "ipython",
    "version": 3
   },
   "file_extension": ".py",
   "mimetype": "text/x-python",
   "name": "python",
   "nbconvert_exporter": "python",
   "pygments_lexer": "ipython3",
   "version": "3.12.4"
  }
 },
 "nbformat": 4,
 "nbformat_minor": 5
}
